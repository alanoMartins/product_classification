{
 "cells": [
  {
   "cell_type": "code",
   "execution_count": 1,
   "id": "167f803c-1c4e-482d-a0e2-6553ce929e49",
   "metadata": {},
   "outputs": [],
   "source": [
    "import os\n",
    "\n",
    "import numpy as np\n",
    "import matplotlib.pyplot as plt\n",
    "\n",
    "import pandas as pd\n",
    "\n",
    "import tensorflow as tf\n",
    "\n",
    "import tensorflow_hub as hub\n",
    "import tensorflow_text as text\n",
    "# import tensorflow_datasets as tfds\n",
    "# tfds.disable_progress_bar()\n",
    "\n",
    "# from official.modeling import tf_utils\n",
    "# from official import nlp\n",
    "# import official.nlp.bert as bert\n",
    "\n",
    "# from official.nlp.bert.tokenization import FullTokenizer\n",
    "\n",
    "# Load the required submodules\n",
    "# import official.nlp.optimization\n",
    "# import official.nlp.bert.bert_models\n",
    "# import official.nlp.bert.configs\n",
    "# import official.nlp.bert.run_classifier\n",
    "# import official.nlp.bert.tokenization\n",
    "# import official.nlp.data.classifier_data_lib\n",
    "# import official.nlp.modeling.losses\n",
    "# import official.nlp.modeling.models\n",
    "# import official.nlp.modeling.networks\n",
    "\n",
    "from sklearn.model_selection import train_test_split"
   ]
  },
  {
   "cell_type": "markdown",
   "id": "531f2d68-1bcc-4fab-b757-44db840e0f96",
   "metadata": {},
   "source": [
    "> https://towardsdatascience.com/multi-label-text-classification-using-bert-and-tensorflow-d2e88d8f488d"
   ]
  },
  {
   "cell_type": "code",
   "execution_count": 2,
   "id": "882766e8-31f0-4612-8064-9221979e2f93",
   "metadata": {},
   "outputs": [
    {
     "name": "stderr",
     "output_type": "stream",
     "text": [
      "2022-07-23 22:32:47.912754: I tensorflow/stream_executor/cuda/cuda_gpu_executor.cc:975] successful NUMA node read from SysFS had negative value (-1), but there must be at least one NUMA node, so returning NUMA node zero\n",
      "2022-07-23 22:32:47.938741: I tensorflow/stream_executor/cuda/cuda_gpu_executor.cc:975] successful NUMA node read from SysFS had negative value (-1), but there must be at least one NUMA node, so returning NUMA node zero\n",
      "2022-07-23 22:32:47.939586: I tensorflow/stream_executor/cuda/cuda_gpu_executor.cc:975] successful NUMA node read from SysFS had negative value (-1), but there must be at least one NUMA node, so returning NUMA node zero\n"
     ]
    }
   ],
   "source": [
    "gpus = tf.config.experimental.list_physical_devices('GPU')\n",
    "for gpu in gpus:\n",
    "    tf.config.experimental.set_memory_growth(gpu, True)"
   ]
  },
  {
   "cell_type": "code",
   "execution_count": 3,
   "id": "cd060a76-b351-4622-a99a-96a4b7bfdc6f",
   "metadata": {},
   "outputs": [],
   "source": [
    "df_full = pd.read_csv('/home/joker/Workspace/Playground/product_classification/datasets/toxic-comment/train.csv')\n",
    "df_test = pd.read_csv('/home/joker/Workspace/Playground/product_classification/datasets/toxic-comment/test.csv')"
   ]
  },
  {
   "cell_type": "code",
   "execution_count": 4,
   "id": "0a2a7306-d61c-4c70-bb6d-fc9a1b52afaf",
   "metadata": {},
   "outputs": [],
   "source": [
    "train, test = train_test_split(df_full, test_size=0.2)"
   ]
  },
  {
   "cell_type": "code",
   "execution_count": 21,
   "id": "4ce73067-7b1c-48a1-84e0-77534abf523e",
   "metadata": {},
   "outputs": [],
   "source": [
    "list_classes = [\"toxic\", \"severe_toxic\", \"obscene\", \"threat\", \"insult\", \"identity_hate\"]\n",
    "\n",
    "x_train = train[\"comment_text\"]\n",
    "y_train = train[list_classes]\n",
    "\n",
    "x_test = test[\"comment_text\"]\n",
    "y_test = test[list_classes]"
   ]
  },
  {
   "cell_type": "code",
   "execution_count": 44,
   "id": "2311771e-212e-4f39-9cd3-088dedac96f9",
   "metadata": {},
   "outputs": [
    {
     "data": {
      "text/plain": [
       "(1000, 6)"
      ]
     },
     "execution_count": 53,
     "metadata": {},
     "output_type": "execute_result"
    }
   ],
   "source": [
    "y_train.shape"
   ]
  },
  {
   "cell_type": "code",
   "execution_count": 57,
   "id": "3e47396d-39fa-4c1a-827b-83dbda00d44f",
   "metadata": {},
   "outputs": [],
   "source": [
    "train_dataset = tf.data.Dataset.from_tensor_slices((x_train.values, y_train.values)).batch(64)"
   ]
  },
  {
   "cell_type": "code",
   "execution_count": 59,
   "id": "266fb13a-864a-435e-97bf-2462345d1273",
   "metadata": {},
   "outputs": [],
   "source": [
    "target_train = tf.keras.utils.to_categorical(y_train.values, 6)"
   ]
  },
  {
   "cell_type": "code",
   "execution_count": 62,
   "id": "1f8421ee-099f-474f-b3aa-0ffbe621e37c",
   "metadata": {},
   "outputs": [
    {
     "data": {
      "text/plain": [
       "(1000, 6, 2)"
      ]
     },
     "execution_count": 65,
     "metadata": {},
     "output_type": "execute_result"
    }
   ],
   "source": [
    "target_train.shape"
   ]
  },
  {
   "cell_type": "code",
   "execution_count": 6,
   "id": "d8c9013f-a2e3-4fe1-8a12-214198cb3948",
   "metadata": {},
   "outputs": [
    {
     "name": "stderr",
     "output_type": "stream",
     "text": [
      "2022-07-23 22:32:56.204050: I tensorflow/core/platform/cpu_feature_guard.cc:193] This TensorFlow binary is optimized with oneAPI Deep Neural Network Library (oneDNN) to use the following CPU instructions in performance-critical operations:  AVX2 FMA\n",
      "To enable them in other operations, rebuild TensorFlow with the appropriate compiler flags.\n",
      "2022-07-23 22:32:56.204685: I tensorflow/stream_executor/cuda/cuda_gpu_executor.cc:975] successful NUMA node read from SysFS had negative value (-1), but there must be at least one NUMA node, so returning NUMA node zero\n",
      "2022-07-23 22:32:56.205143: I tensorflow/stream_executor/cuda/cuda_gpu_executor.cc:975] successful NUMA node read from SysFS had negative value (-1), but there must be at least one NUMA node, so returning NUMA node zero\n",
      "2022-07-23 22:32:56.205418: I tensorflow/stream_executor/cuda/cuda_gpu_executor.cc:975] successful NUMA node read from SysFS had negative value (-1), but there must be at least one NUMA node, so returning NUMA node zero\n",
      "2022-07-23 22:33:04.182828: I tensorflow/stream_executor/cuda/cuda_gpu_executor.cc:975] successful NUMA node read from SysFS had negative value (-1), but there must be at least one NUMA node, so returning NUMA node zero\n",
      "2022-07-23 22:33:04.184059: I tensorflow/stream_executor/cuda/cuda_gpu_executor.cc:975] successful NUMA node read from SysFS had negative value (-1), but there must be at least one NUMA node, so returning NUMA node zero\n",
      "2022-07-23 22:33:04.185132: I tensorflow/stream_executor/cuda/cuda_gpu_executor.cc:975] successful NUMA node read from SysFS had negative value (-1), but there must be at least one NUMA node, so returning NUMA node zero\n",
      "2022-07-23 22:33:04.185988: I tensorflow/core/common_runtime/gpu/gpu_device.cc:1532] Created device /job:localhost/replica:0/task:0/device:GPU:0 with 3364 MB memory:  -> device: 0, name: GeForce GTX 1050 Ti, pci bus id: 0000:01:00.0, compute capability: 6.1\n",
      "2022-07-23 22:33:11.145223: W tensorflow/core/framework/cpu_allocator_impl.cc:82] Allocation of 1539542016 exceeds 10% of free system memory.\n"
     ]
    }
   ],
   "source": [
    "preprocessor = hub.KerasLayer(\"../models/bert_preprocessor\")\n",
    "encoder = hub.KerasLayer(\"../models/hub_bert_model\")"
   ]
  },
  {
   "cell_type": "code",
   "execution_count": null,
   "id": "80ed0302-6651-49a3-b189-66c3dcccacd9",
   "metadata": {},
   "outputs": [],
   "source": []
  },
  {
   "cell_type": "code",
   "execution_count": null,
   "id": "48bc15fb-090f-4de2-89a7-0dc88fec901f",
   "metadata": {},
   "outputs": [],
   "source": [
    "# hub_url_bert = \"https://tfhub.dev/tensorflow/bert_en_uncased_L-12_H-768_A-12/3\""
   ]
  },
  {
   "cell_type": "code",
   "execution_count": null,
   "id": "b3b0eb0a-4005-4b60-b63c-c4b9d2d23404",
   "metadata": {},
   "outputs": [],
   "source": [
    "# gs_folder_bert = \"gs://cloud-tpu-checkpoints/bert/v3/uncased_L-12_H-768_A-12\"\n",
    "# tf.io.gfile.listdir(gs_folder_bert)"
   ]
  },
  {
   "cell_type": "code",
   "execution_count": null,
   "id": "475c206d-46d8-4790-bdba-0207a59f14e4",
   "metadata": {},
   "outputs": [],
   "source": [
    "# # Set up tokenizer to generate Tensorflow dataset\n",
    "# tokenizer = FullTokenizer(\n",
    "#     vocab_file=os.path.join(gs_folder_bert, \"import tensorflow_hub as hub\n",
    "# import tensorflow_text as textvocab.txt\"),\n",
    "#      do_lower_case=True)\n",
    "\n",
    "# print(\"Vocab size:\", len(tokenizer.vocab))"
   ]
  },
  {
   "cell_type": "code",
   "execution_count": 7,
   "id": "1bcd15e4-f61b-4d36-8817-b341dd10241b",
   "metadata": {},
   "outputs": [],
   "source": [
    "from keras import backend as K\n",
    "\n",
    "def balanced_recall(y_true, y_pred):\n",
    "    \"\"\"This function calculates the balanced recall metric\n",
    "    recall = TP / (TP + FN)\n",
    "    \"\"\"\n",
    "    recall_by_class = 0\n",
    "    # iterate over each predicted class to get class-specific metric\n",
    "    for i in range(y_pred.shape[1]):\n",
    "        y_pred_class = y_pred[:, i]\n",
    "        y_true_class = y_true[:, i]\n",
    "        true_positives = K.sum(K.round(K.clip(y_true_class * y_pred_class, 0, 1)))\n",
    "        possible_positives = K.sum(K.round(K.clip(y_true_class, 0, 1)))\n",
    "        recall = true_positives / (possible_positives + K.epsilon())\n",
    "        recall_by_class = recall_by_class + recall\n",
    "    return recall_by_class / y_pred.shape[1]\n",
    "\n",
    "def balanced_precision(y_true, y_pred):\n",
    "    \"\"\"This function calculates the balanced precision metric\n",
    "    precision = TP / (TP + FP)\n",
    "    \"\"\"\n",
    "    precision_by_class = 0\n",
    "    # iterate over each predicted class to get class-specific metric\n",
    "    for i in range(y_pred.shape[1]):\n",
    "        y_pred_class = y_pred[:, i]\n",
    "        y_true_class = y_true[:, i]\n",
    "        true_positives = K.sum(K.round(K.clip(y_true_class * y_pred_class, 0, 1)))\n",
    "        predicted_positives = K.sum(K.round(K.clip(y_pred_class, 0, 1)))\n",
    "        precision = true_positives / (predicted_positives + K.epsilon())\n",
    "        precision_by_class = precision_by_class + precision\n",
    "    # return average balanced metric for each class\n",
    "    return precision_by_class / y_pred.shape[1]\n",
    "\n",
    "def balanced_f1_score(y_true, y_pred):\n",
    "    \"\"\"This function calculates the F1 score metric\"\"\"\n",
    "    precision = balanced_precision(y_true, y_pred)\n",
    "    recall = balanced_recall(y_true, y_pred)\n",
    "    return 2 * ((precision * recall) / (precision + recall + K.epsilon()))"
   ]
  },
  {
   "cell_type": "code",
   "execution_count": 36,
   "id": "840758b3-0ea5-452c-9370-175d36b5b4b9",
   "metadata": {},
   "outputs": [],
   "source": [
    "def get_embeddings(sentences):\n",
    "    '''return BERT-like embeddings of input text\n",
    "    Args:\n",
    "    - sentences: list of strings\n",
    "    Output:\n",
    "    - BERT-like embeddings: tf.Tensor of shape=(len(sentences), 768)\n",
    "    '''\n",
    "    preprocessed_text = preprocessor(sentences)\n",
    "    return encoder(preprocessed_text)['pooled_output']"
   ]
  },
  {
   "cell_type": "code",
   "execution_count": 8,
   "id": "85f325ed-4018-4f82-aab1-ffb15c760f95",
   "metadata": {},
   "outputs": [],
   "source": [
    "def get_model(num_classes):\n",
    "    i = tf.keras.layers.Input(shape=(), dtype=tf.string, name='text')\n",
    "    x = preprocessor(i)\n",
    "    x = encoder(x)\n",
    "    x = tf.keras.layers.Dropout(0.2, name=\"dropout\")(x['pooled_output'])\n",
    "    x = tf.keras.layers.Dense(num_classes, activation='softmax', name=\"output\")(x)\n",
    "\n",
    "    return tf.keras.Model(i, x)"
   ]
  },
  {
   "cell_type": "code",
   "execution_count": 9,
   "id": "78a6aba8-78ba-49a5-9a5b-b120e16172fb",
   "metadata": {},
   "outputs": [],
   "source": [
    "model = get_model(6)"
   ]
  },
  {
   "cell_type": "code",
   "execution_count": 10,
   "id": "a7e369f1-c25a-48a7-9c84-451f778572d5",
   "metadata": {},
   "outputs": [],
   "source": [
    "METRICS = [\n",
    "      tf.keras.metrics.CategoricalAccuracy(name=\"accuracy\"),\n",
    "      balanced_recall,\n",
    "      balanced_precision,\n",
    "      balanced_f1_score\n",
    "]"
   ]
  },
  {
   "cell_type": "code",
   "execution_count": 11,
   "id": "7ed43851-324f-4e8b-951e-a49344e594b4",
   "metadata": {},
   "outputs": [],
   "source": [
    "\n",
    "earlystop_callback = tf.keras.callbacks.EarlyStopping(monitor = \"val_loss\", \n",
    "                                                      patience = 3,\n",
    "                                                      restore_best_weights = True)"
   ]
  },
  {
   "cell_type": "code",
   "execution_count": null,
   "id": "a43e8e34-1947-4025-a583-ee24395ca484",
   "metadata": {},
   "outputs": [],
   "source": [
    "loss_scc = tf.keras.losses.SparseCategoricalCrossentropy(\n",
    "    from_logits=False, reduction=\"auto\", name=\"sparse_categorical_crossentropy\"\n",
    ")"
   ]
  },
  {
   "cell_type": "code",
   "execution_count": 37,
   "id": "9c7ffe65-5327-4a58-a999-d488e6b17411",
   "metadata": {},
   "outputs": [],
   "source": [
    "model.compile(optimizer = \"adam\",\n",
    "              loss = loss_scc,\n",
    "              metrics = METRICS)"
   ]
  },
  {
   "cell_type": "code",
   "execution_count": 13,
   "id": "a0e940f3-bb02-4019-90e7-b48684a99c33",
   "metadata": {},
   "outputs": [],
   "source": [
    "n_epochs = 5"
   ]
  },
  {
   "cell_type": "code",
   "execution_count": 14,
   "id": "c997d2d8-0217-4a80-8807-bc44ca99174e",
   "metadata": {},
   "outputs": [
    {
     "data": {
      "text/plain": [
       "(1000,)"
      ]
     },
     "execution_count": 14,
     "metadata": {},
     "output_type": "execute_result"
    }
   ],
   "source": [
    "x_train.shape"
   ]
  },
  {
   "cell_type": "code",
   "execution_count": 40,
   "id": "79c4a03d-5134-4899-a509-e552b9dad248",
   "metadata": {},
   "outputs": [
    {
     "data": {
      "text/plain": [
       "<TakeDataset element_spec=(TensorSpec(shape=(None,), dtype=tf.string, name=None), TensorSpec(shape=(None, 6), dtype=tf.int64, name=None))>"
      ]
     },
     "execution_count": 40,
     "metadata": {},
     "output_type": "execute_result"
    }
   ],
   "source": [
    "train_dataset.take(1)"
   ]
  },
  {
   "cell_type": "code",
   "execution_count": 38,
   "id": "cd09472c-515f-4b61-8c17-0eba99e53fdc",
   "metadata": {},
   "outputs": [
    {
     "name": "stdout",
     "output_type": "stream",
     "text": [
      "Epoch 1/5\n"
     ]
    },
    {
     "ename": "ValueError",
     "evalue": "in user code:\n\n    File \"/home/joker/.virtualenvs/tensorflow_lastest/lib/python3.9/site-packages/keras/engine/training.py\", line 1051, in train_function  *\n        return step_function(self, iterator)\n    File \"/home/joker/.virtualenvs/tensorflow_lastest/lib/python3.9/site-packages/keras/engine/training.py\", line 1040, in step_function  **\n        outputs = model.distribute_strategy.run(run_step, args=(data,))\n    File \"/home/joker/.virtualenvs/tensorflow_lastest/lib/python3.9/site-packages/keras/engine/training.py\", line 1030, in run_step  **\n        outputs = model.train_step(data)\n    File \"/home/joker/.virtualenvs/tensorflow_lastest/lib/python3.9/site-packages/keras/engine/training.py\", line 894, in train_step\n        return self.compute_metrics(x, y, y_pred, sample_weight)\n    File \"/home/joker/.virtualenvs/tensorflow_lastest/lib/python3.9/site-packages/keras/engine/training.py\", line 987, in compute_metrics\n        self.compiled_metrics.update_state(y, y_pred, sample_weight)\n    File \"/home/joker/.virtualenvs/tensorflow_lastest/lib/python3.9/site-packages/keras/engine/compile_utils.py\", line 501, in update_state\n        metric_obj.update_state(y_t, y_p, sample_weight=mask)\n    File \"/home/joker/.virtualenvs/tensorflow_lastest/lib/python3.9/site-packages/keras/utils/metrics_utils.py\", line 70, in decorated\n        update_op = update_state_fn(*args, **kwargs)\n    File \"/home/joker/.virtualenvs/tensorflow_lastest/lib/python3.9/site-packages/keras/metrics/base_metric.py\", line 140, in update_state_fn\n        return ag_update_state(*args, **kwargs)\n    File \"/home/joker/.virtualenvs/tensorflow_lastest/lib/python3.9/site-packages/keras/metrics/base_metric.py\", line 646, in update_state  **\n        matches = ag_fn(y_true, y_pred, **self._fn_kwargs)\n    File \"/home/joker/.virtualenvs/tensorflow_lastest/lib/python3.9/site-packages/keras/metrics/metrics.py\", line 269, in <lambda>  **\n        lambda y_true, y_pred: metrics_utils.sparse_categorical_matches(  # pylint: disable=g-long-lambda\n    File \"/home/joker/.virtualenvs/tensorflow_lastest/lib/python3.9/site-packages/keras/utils/metrics_utils.py\", line 885, in sparse_categorical_matches\n        y_true = tf.squeeze(y_true, [-1])\n\n    ValueError: Can not squeeze dim[1], expected a dimension of 1, got 6 for '{{node Squeeze}} = Squeeze[T=DT_INT64, squeeze_dims=[-1]](ArgMax)' with input shapes: [?,6].\n",
     "output_type": "error",
     "traceback": [
      "\u001b[0;31m---------------------------------------------------------------------------\u001b[0m",
      "\u001b[0;31mValueError\u001b[0m                                Traceback (most recent call last)",
      "Input \u001b[0;32mIn [56]\u001b[0m, in \u001b[0;36m<cell line: 1>\u001b[0;34m()\u001b[0m\n\u001b[0;32m----> 1\u001b[0m model_fit \u001b[38;5;241m=\u001b[39m \u001b[43mmodel\u001b[49m\u001b[38;5;241;43m.\u001b[39;49m\u001b[43mfit\u001b[49m\u001b[43m(\u001b[49m\u001b[43mx_train\u001b[49m\u001b[43m,\u001b[49m\u001b[43m \u001b[49m\u001b[43mtarget_train\u001b[49m\u001b[43m,\u001b[49m\n\u001b[1;32m      2\u001b[0m \u001b[43m                      \u001b[49m\u001b[43mepochs\u001b[49m\u001b[43m \u001b[49m\u001b[38;5;241;43m=\u001b[39;49m\u001b[43m \u001b[49m\u001b[43mn_epochs\u001b[49m\u001b[43m,\u001b[49m\n\u001b[1;32m      3\u001b[0m \u001b[43m                      \u001b[49m\u001b[43mcallbacks\u001b[49m\u001b[43m \u001b[49m\u001b[38;5;241;43m=\u001b[39;49m\u001b[43m \u001b[49m\u001b[43m[\u001b[49m\u001b[43mearlystop_callback\u001b[49m\u001b[43m]\u001b[49m\u001b[43m)\u001b[49m\n",
      "File \u001b[0;32m~/.virtualenvs/tensorflow_lastest/lib/python3.9/site-packages/keras/utils/traceback_utils.py:67\u001b[0m, in \u001b[0;36mfilter_traceback.<locals>.error_handler\u001b[0;34m(*args, **kwargs)\u001b[0m\n\u001b[1;32m     65\u001b[0m \u001b[38;5;28;01mexcept\u001b[39;00m \u001b[38;5;167;01mException\u001b[39;00m \u001b[38;5;28;01mas\u001b[39;00m e:  \u001b[38;5;66;03m# pylint: disable=broad-except\u001b[39;00m\n\u001b[1;32m     66\u001b[0m   filtered_tb \u001b[38;5;241m=\u001b[39m _process_traceback_frames(e\u001b[38;5;241m.\u001b[39m__traceback__)\n\u001b[0;32m---> 67\u001b[0m   \u001b[38;5;28;01mraise\u001b[39;00m e\u001b[38;5;241m.\u001b[39mwith_traceback(filtered_tb) \u001b[38;5;28;01mfrom\u001b[39;00m \u001b[38;5;28mNone\u001b[39m\n\u001b[1;32m     68\u001b[0m \u001b[38;5;28;01mfinally\u001b[39;00m:\n\u001b[1;32m     69\u001b[0m   \u001b[38;5;28;01mdel\u001b[39;00m filtered_tb\n",
      "File \u001b[0;32m/tmp/__autograph_generated_file2joapnm0.py:15\u001b[0m, in \u001b[0;36mouter_factory.<locals>.inner_factory.<locals>.tf__train_function\u001b[0;34m(iterator)\u001b[0m\n\u001b[1;32m     13\u001b[0m \u001b[38;5;28;01mtry\u001b[39;00m:\n\u001b[1;32m     14\u001b[0m     do_return \u001b[38;5;241m=\u001b[39m \u001b[38;5;28;01mTrue\u001b[39;00m\n\u001b[0;32m---> 15\u001b[0m     retval_ \u001b[38;5;241m=\u001b[39m ag__\u001b[38;5;241m.\u001b[39mconverted_call(ag__\u001b[38;5;241m.\u001b[39mld(step_function), (ag__\u001b[38;5;241m.\u001b[39mld(\u001b[38;5;28mself\u001b[39m), ag__\u001b[38;5;241m.\u001b[39mld(iterator)), \u001b[38;5;28;01mNone\u001b[39;00m, fscope)\n\u001b[1;32m     16\u001b[0m \u001b[38;5;28;01mexcept\u001b[39;00m:\n\u001b[1;32m     17\u001b[0m     do_return \u001b[38;5;241m=\u001b[39m \u001b[38;5;28;01mFalse\u001b[39;00m\n",
      "\u001b[0;31mValueError\u001b[0m: in user code:\n\n    File \"/home/joker/.virtualenvs/tensorflow_lastest/lib/python3.9/site-packages/keras/engine/training.py\", line 1051, in train_function  *\n        return step_function(self, iterator)\n    File \"/home/joker/.virtualenvs/tensorflow_lastest/lib/python3.9/site-packages/keras/engine/training.py\", line 1040, in step_function  **\n        outputs = model.distribute_strategy.run(run_step, args=(data,))\n    File \"/home/joker/.virtualenvs/tensorflow_lastest/lib/python3.9/site-packages/keras/engine/training.py\", line 1030, in run_step  **\n        outputs = model.train_step(data)\n    File \"/home/joker/.virtualenvs/tensorflow_lastest/lib/python3.9/site-packages/keras/engine/training.py\", line 894, in train_step\n        return self.compute_metrics(x, y, y_pred, sample_weight)\n    File \"/home/joker/.virtualenvs/tensorflow_lastest/lib/python3.9/site-packages/keras/engine/training.py\", line 987, in compute_metrics\n        self.compiled_metrics.update_state(y, y_pred, sample_weight)\n    File \"/home/joker/.virtualenvs/tensorflow_lastest/lib/python3.9/site-packages/keras/engine/compile_utils.py\", line 501, in update_state\n        metric_obj.update_state(y_t, y_p, sample_weight=mask)\n    File \"/home/joker/.virtualenvs/tensorflow_lastest/lib/python3.9/site-packages/keras/utils/metrics_utils.py\", line 70, in decorated\n        update_op = update_state_fn(*args, **kwargs)\n    File \"/home/joker/.virtualenvs/tensorflow_lastest/lib/python3.9/site-packages/keras/metrics/base_metric.py\", line 140, in update_state_fn\n        return ag_update_state(*args, **kwargs)\n    File \"/home/joker/.virtualenvs/tensorflow_lastest/lib/python3.9/site-packages/keras/metrics/base_metric.py\", line 646, in update_state  **\n        matches = ag_fn(y_true, y_pred, **self._fn_kwargs)\n    File \"/home/joker/.virtualenvs/tensorflow_lastest/lib/python3.9/site-packages/keras/metrics/metrics.py\", line 269, in <lambda>  **\n        lambda y_true, y_pred: metrics_utils.sparse_categorical_matches(  # pylint: disable=g-long-lambda\n    File \"/home/joker/.virtualenvs/tensorflow_lastest/lib/python3.9/site-packages/keras/utils/metrics_utils.py\", line 885, in sparse_categorical_matches\n        y_true = tf.squeeze(y_true, [-1])\n\n    ValueError: Can not squeeze dim[1], expected a dimension of 1, got 6 for '{{node Squeeze}} = Squeeze[T=DT_INT64, squeeze_dims=[-1]](ArgMax)' with input shapes: [?,6].\n"
     ]
    }
   ],
   "source": [
    "model_fit = model.fit(train_dataset,\n",
    "                      epochs = n_epochs,\n",
    "                      callbacks = [earlystop_callback])"
   ]
  },
  {
   "cell_type": "code",
   "execution_count": 24,
   "id": "0ca329d7-e5fb-47ec-9139-98076d7d6fb0",
   "metadata": {},
   "outputs": [
    {
     "data": {
      "image/png": "[encoded data removed]",
      "text/plain": [
       "<Figure size 2160x360 with 2 Axes>"
      ]
     },
     "metadata": {
      "needs_background": "light"
     },
     "output_type": "display_data"
    }
   ],
   "source": [
    "x = list(range(1, n_epochs+1))\n",
    "metric_list = list(model_fit.history.keys())\n",
    "num_metrics = int(len(metric_list)/2)\n",
    "\n",
    "fig, ax = plt.subplots(nrows=1, ncols=num_metrics, figsize=(30, 5))\n",
    "\n",
    "for i in range(0, num_metrics):\n",
    "    ax[i].plot(x, model_fit.history[metric_list[i]], marker=\"o\", label=metric_list[i].replace(\"_\", \" \"))\n",
    "    ax[i].plot(x, model_fit.history[metric_list[i+num_metrics]], marker=\"o\", label=metric_list[i+num_metrics].replace(\"_\", \" \"))\n",
    "    ax[i].set_xlabel(\"epochs\",fontsize=14)\n",
    "    ax[i].set_title(metric_list[i].replace(\"_\", \" \"),fontsize=20)\n",
    "    ax[i].legend(loc=\"lower left\")"
   ]
  },
  {
   "cell_type": "code",
   "execution_count": 25,
   "id": "45180458-e525-400b-a77e-cc7c0e2121f5",
   "metadata": {},
   "outputs": [],
   "source": [
    "def predict_class(reviews):\n",
    "    '''predict class of input text\n",
    "    Args:\n",
    "    - reviews (list of strings)\n",
    "    Output:\n",
    "    - class (list of int)\n",
    "    '''\n",
    "    return [np.argmax(pred) for pred in model.predict(reviews)]"
   ]
  },
  {
   "cell_type": "code",
   "execution_count": 27,
   "id": "624feaed-3054-40e6-9629-04d079fd3fb2",
   "metadata": {},
   "outputs": [
    {
     "name": "stdout",
     "output_type": "stream",
     "text": [
      "1/1 [==============================] - 0s 42ms/step\n"
     ]
    },
    {
     "data": {
      "text/plain": [
       "[0, 0, 0, 0, 0]"
      ]
     },
     "execution_count": 27,
     "metadata": {},
     "output_type": "execute_result"
    }
   ],
   "source": [
    "predict_class(x_train[0:5])\n"
   ]
  },
  {
   "cell_type": "code",
   "execution_count": 12,
   "id": "b48087fc-aa76-4e1a-9831-6ec16b0dbfd2",
   "metadata": {},
   "outputs": [],
   "source": [
    "# def encode_sentence(s, tokenizer):\n",
    "#     tokens = list(tokenizer.tokenize(s))\n",
    "#     tokens.append('[SEP]')\n",
    "#     return tokenizer.convert_tokens_to_ids(tokens)"
   ]
  },
  {
   "cell_type": "code",
   "execution_count": 13,
   "id": "03cabea8-4ec5-4b5b-9aa7-1de76cd19eff",
   "metadata": {},
   "outputs": [],
   "source": [
    "# def bert_encode(data, tokenizer):\n",
    "#     num_examples = len(data)\n",
    "\n",
    "#     sentence1 = tf.ragged.constant([encode_sentence(s, tokenizer) for s in np.array(data)])\n",
    "\n",
    "\n",
    "#     cls = [tokenizer.convert_tokens_to_ids(['[CLS]'])]*sentence1.shape[0]\n",
    "#     input_word_ids = tf.concat([cls, sentence1], axis=-1)\n",
    "\n",
    "#     input_mask = tf.ones_like(input_word_ids).to_tensor()\n",
    "\n",
    "#     type_cls = tf.zeros_like(cls)\n",
    "#     type_s1 = tf.zeros_like(sentence1)\n",
    "#     input_type_ids = tf.concat(\n",
    "#       [type_cls, type_s1], axis=-1).to_tensor()\n",
    "\n",
    "#     inputs = {\n",
    "#       'input_word_ids': input_word_ids.to_tensor(),\n",
    "#       'input_mask': input_mask,\n",
    "#       'input_type_ids': input_type_ids}\n",
    "\n",
    "#     return inputs"
   ]
  },
  {
   "cell_type": "code",
   "execution_count": null,
   "id": "b05dcc8e-83c2-41b3-a293-d6787228a9be",
   "metadata": {},
   "outputs": [
    {
     "name": "stderr",
     "output_type": "stream",
     "text": [
      "2022-07-23 21:16:48.081414: W tensorflow/core/framework/cpu_allocator_impl.cc:82] Allocation of 3159505800 exceeds 10% of free system memory.\n",
      "2022-07-23 21:17:02.963308: W tensorflow/core/framework/cpu_allocator_impl.cc:82] Allocation of 3159505800 exceeds 10% of free system memory.\n"
     ]
    }
   ],
   "source": [
    "# df_train = bert_encode(train[\"comment_text\"], tokenizer)\n",
    "# df_test = bert_encode(test[\"comment_text\"], tokenizer)"
   ]
  },
  {
   "cell_type": "code",
   "execution_count": 1,
   "id": "a1517b69-a2f2-49cf-92ba-6bd341907da8",
   "metadata": {},
   "outputs": [
    {
     "ename": "NameError",
     "evalue": "name 'bert_encode' is not defined",
     "output_type": "error",
     "traceback": [
      "\u001b[0;31m---------------------------------------------------------------------------\u001b[0m",
      "\u001b[0;31mNameError\u001b[0m                                 Traceback (most recent call last)",
      "Input \u001b[0;32mIn [1]\u001b[0m, in \u001b[0;36m<cell line: 1>\u001b[0;34m()\u001b[0m\n\u001b[0;32m----> 1\u001b[0m df_test \u001b[38;5;241m=\u001b[39m \u001b[43mbert_encode\u001b[49m(test, tokenizer)\n",
      "\u001b[0;31mNameError\u001b[0m: name 'bert_encode' is not defined"
     ]
    }
   ],
   "source": []
  }
 ],
 "metadata": {
  "kernelspec": {
   "display_name": "Python 3 (ipykernel)",
   "language": "python",
   "name": "python3"
  },
  "language_info": {
   "codemirror_mode": {
    "name": "ipython",
    "version": 3
   },
   "file_extension": ".py",
   "mimetype": "text/x-python",
   "name": "python",
   "nbconvert_exporter": "python",
   "pygments_lexer": "ipython3",
   "version": "3.9.13"
  }
 },
 "nbformat": 4,
 "nbformat_minor": 5
}
