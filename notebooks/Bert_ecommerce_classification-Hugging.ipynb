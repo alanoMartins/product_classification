{
 "cells": [
  {
   "cell_type": "code",
   "execution_count": 1,
   "metadata": {
    "id": "fRlbUyxmsitv"
   },
   "outputs": [],
   "source": [
    "import os\n",
    "import shutil\n",
    "\n",
    "import pandas as pd\n",
    "import numpy as np\n",
    "\n",
    "from sklearn.model_selection import train_test_split\n",
    "\n",
    "import tensorflow as tf\n",
    "import tensorflow_hub as hub\n",
    "import tensorflow_text as text\n",
    "from official.nlp import optimization  # to create AdamW optimizer\n",
    "\n",
    "import matplotlib.pyplot as plt\n",
    "\n",
    "from sklearn import preprocessing\n",
    "from transformers import AutoModel\n",
    "\n",
    "tf.get_logger().setLevel('ERROR')\n",
    "\n"
   ]
  },
  {
   "cell_type": "code",
   "execution_count": 6,
   "metadata": {},
   "outputs": [
    {
     "data": {
      "application/vnd.jupyter.widget-view+json": {
       "model_id": "4c384876540b44da83cd3f901fce1d38",
       "version_major": 2,
       "version_minor": 0
      },
      "text/plain": [
       "Downloading tf_model.h5:   0%|          | 0.00/502M [00:00<?, ?B/s]"
      ]
     },
     "metadata": {},
     "output_type": "display_data"
    },
    {
     "name": "stderr",
     "output_type": "stream",
     "text": [
      "2022-08-01 17:13:16.620126: I tensorflow/stream_executor/cuda/cuda_gpu_executor.cc:975] successful NUMA node read from SysFS had negative value (-1), but there must be at least one NUMA node, so returning NUMA node zero\n",
      "2022-08-01 17:13:16.626605: I tensorflow/stream_executor/cuda/cuda_gpu_executor.cc:975] successful NUMA node read from SysFS had negative value (-1), but there must be at least one NUMA node, so returning NUMA node zero\n",
      "2022-08-01 17:13:16.627134: I tensorflow/stream_executor/cuda/cuda_gpu_executor.cc:975] successful NUMA node read from SysFS had negative value (-1), but there must be at least one NUMA node, so returning NUMA node zero\n",
      "2022-08-01 17:13:16.628242: I tensorflow/core/platform/cpu_feature_guard.cc:193] This TensorFlow binary is optimized with oneAPI Deep Neural Network Library (oneDNN) to use the following CPU instructions in performance-critical operations:  AVX2 FMA\n",
      "To enable them in other operations, rebuild TensorFlow with the appropriate compiler flags.\n",
      "2022-08-01 17:13:16.628754: I tensorflow/stream_executor/cuda/cuda_gpu_executor.cc:975] successful NUMA node read from SysFS had negative value (-1), but there must be at least one NUMA node, so returning NUMA node zero\n",
      "2022-08-01 17:13:16.629172: I tensorflow/stream_executor/cuda/cuda_gpu_executor.cc:975] successful NUMA node read from SysFS had negative value (-1), but there must be at least one NUMA node, so returning NUMA node zero\n",
      "2022-08-01 17:13:16.629545: I tensorflow/stream_executor/cuda/cuda_gpu_executor.cc:975] successful NUMA node read from SysFS had negative value (-1), but there must be at least one NUMA node, so returning NUMA node zero\n",
      "2022-08-01 17:13:17.144063: I tensorflow/stream_executor/cuda/cuda_gpu_executor.cc:975] successful NUMA node read from SysFS had negative value (-1), but there must be at least one NUMA node, so returning NUMA node zero\n",
      "2022-08-01 17:13:17.144553: I tensorflow/stream_executor/cuda/cuda_gpu_executor.cc:975] successful NUMA node read from SysFS had negative value (-1), but there must be at least one NUMA node, so returning NUMA node zero\n",
      "2022-08-01 17:13:17.144955: I tensorflow/stream_executor/cuda/cuda_gpu_executor.cc:975] successful NUMA node read from SysFS had negative value (-1), but there must be at least one NUMA node, so returning NUMA node zero\n",
      "2022-08-01 17:13:17.145291: I tensorflow/core/common_runtime/gpu/gpu_device.cc:1532] Created device /job:localhost/replica:0/task:0/device:GPU:0 with 3364 MB memory:  -> device: 0, name: GeForce GTX 1050 Ti, pci bus id: 0000:01:00.0, compute capability: 6.1\n",
      "Some layers from the model checkpoint at bert-base-cased were not used when initializing TFBertModel: ['nsp___cls', 'mlm___cls']\n",
      "- This IS expected if you are initializing TFBertModel from the checkpoint of a model trained on another task or with another architecture (e.g. initializing a BertForSequenceClassification model from a BertForPreTraining model).\n",
      "- This IS NOT expected if you are initializing TFBertModel from the checkpoint of a model that you expect to be exactly identical (initializing a BertForSequenceClassification model from a BertForSequenceClassification model).\n",
      "All the layers of TFBertModel were initialized from the model checkpoint at bert-base-cased.\n",
      "If your task is similar to the task the model of the checkpoint was trained on, you can already use TFBertModel for predictions without further training.\n"
     ]
    }
   ],
   "source": [
    "from transformers import AutoTokenizer, TFAutoModel\n",
    "tokenizer = AutoTokenizer.from_pretrained(\"bert-base-cased\")\n",
    "bert = TFAutoModel.from_pretrained(\"bert-base-cased\")"
   ]
  },
  {
   "cell_type": "code",
   "execution_count": 12,
   "metadata": {
    "id": "QpT3rIsmssUd"
   },
   "outputs": [],
   "source": [
    "base_path = \"../datasets/ecommerce\"\n",
    "df_full = pd.read_csv(f\"{base_path}/sample_products.csv\", header=None)"
   ]
  },
  {
   "cell_type": "code",
   "execution_count": 72,
   "metadata": {
    "id": "T1Ji72MG4m6w"
   },
   "outputs": [],
   "source": [
    "le = preprocessing.LabelEncoder()\n",
    "df_full[\"target\"] = le.fit_transform(df_full[0])\n",
    "df_full = df_full.dropna()\n",
    "# df_full"
   ]
  },
  {
   "cell_type": "code",
   "execution_count": 73,
   "metadata": {},
   "outputs": [],
   "source": [
    "arr = df_full[\"target\"].values \n",
    "labels = np.zeros((arr.size, arr.max()+1))  \n",
    "labels[np.arange(arr.size), arr] = 1  "
   ]
  },
  {
   "cell_type": "code",
   "execution_count": 158,
   "metadata": {},
   "outputs": [
    {
     "data": {
      "text/plain": [
       "array(['Paper Plane Design Framed Wall Hanging Motivational Office Decor Art Prints (8.7 X 8.7 inch) - Set of 4 Painting made up in synthetic frame with uv textured print which gives multi effects and attracts towards it. This is an special series of paintings which makes your wall very beautiful and gives a royal touch. This painting is ready to hang, you would be proud to possess this unique painting that is a niche apart. We use only the most modern and efficient printing technology on our prints, with only the and inks and precision epson, roland and hp printers. This innovative hd printing technique results in durable and spectacular looking prints of the highest that last a lifetime. We print solely with top-notch 100% inks, to achieve brilliant and true colours. Due to their high level of uv resistance, our prints retain their beautiful colours for many years. Add colour and style to your living space with this digitally printed painting. Some are for pleasure and some for eternal bliss.so bring home this elegant print that is lushed with rich colors that makes it nothing but sheer elegance to be to your friends and family.it would be treasured forever by whoever your lucky recipient is. Liven up your place with these intriguing paintings that are high definition hd graphic digital prints for home, office or any room.',\n",
       "       \"SAF 'Floral' Framed Painting (Wood, 30 inch x 10 inch, Special Effect UV Print Textured, SAO297) Painting made up in synthetic frame with UV textured print which gives multi effects and attracts towards it. This is an special series of paintings which makes your wall very beautiful and gives a royal touch (A perfect gift for your special ones).\",\n",
       "       \"SAF 'UV Textured Modern Art Print Framed' Painting (Synthetic, 35 cm x 50 cm x 3 cm, Set of 3) Color:Multicolor                                                                                \\xa0|\\xa0                           Size:35 cm x 50 cm x 3 cm   Overview a beautiful painting involves the action or skill of using paint in the right manner; hence, the end product will be a picture that can speak a thousand words they say. Arts have been in trend for quite some time now. It can give different viewer different meanings style and design the SAF wood matte abstract painting with frame is quite abstract and mysteriously beautiful. The painting has a nice frame to it. You can gift this to a family or a friend. The painting has various forms of certain figures on it as seen in the image. You can add a good set of lights to the place where the painting is and the decor will give a different feel and look to the place. Quality and durability the painting has a matte finish and includes a good quality frame and will last for a long period. However, it does not include glass along with the frame. Specifications you can purchase SAF wood matte abstract painting with frame on amazon.in. It is the most customer-friendly platform with a wide range of products to choose from, and shopping is just a click away!\",\n",
       "       'SAF Flower Print Framed Painting (Synthetic, 13.5 inch x 22 inch, UV Textured, Set of 3, SANFSW4951) Color:Multicolor                                                                                \\xa0|\\xa0                           Size:35 cm x 50 cm x 2 cm   A beautiful painting involves the action or skill of using paint in the right manner, hence, the end product will be a picture that can speak a thousand words they say. Arts have been in trend for quite some time now. It can give different viewer different meanings style and design the saf wood matte painting with frame is quite abstract and mysteriously beautiful. The painting has a nice frame to it. You can gift this to a family or a friend. The painting has various forms of certain figures on it as seen in the image. You can add a good set of lights to the place where the painting is and the decor will give a different feel and look to the place. Quality and durability the painting has a matte finish and includes a good quality frame and will last for a long period. However, it does not include glass along with the frame.',\n",
       "       'Incredible Gifts India Wooden Happy Birthday Unique Personalized Gift (5 X 4 Inch) Size:4 x 5   Made Of Natural Imported Wood, Which Is Quite Solid With Light Particle Pattern & Is Soft Pale To Blond Colour. Your Uploaded Photo Will Look Amazing And Beautiful After Laser Engraving On It. This Is One Of The Most Popular Unique Gifts In Our Store. We Offer This In Multiple Sizes, Some Can Be Used As Table Top And The Big Sizes Can Be Used As Wall Hanging Which Just Blends With Your Home Decaration. You Just Need To Upload A Picture And Add Your Own Text And We Will Do The Rest For You. We Will Email You The Preview Before Making The Final Product. Do You Want The Best Moment Of Your Life To Be Engraved On A Wooden Plaque That Lasts For A Longer Time And Stays Close To You Forever? Then You Are At The Right Place. We Present To You Various Sizes Personalized Engraved Wooden Plaques Made With Birch Wood. Let Your Memories Be Engraved On Wooden Plaques And Stay With Your Forever.',\n",
       "       'Pitaara Box Romantic Venice Canvas Painting 6mm Thick Mdf Frame 21.1 X 14Inch Enclosure Material:MDF Mount Frame                                                                                \\xa0|\\xa0                           Size:21.1inch x 14inch (53.6cms x 35.6cms)   SIZE: 21.1 inch x 14.0 inch (53.6 cms x 35.6 cms)  Enhance the beauty of your room walls with this breathtaking digital printed artwork. Our high-end printing technology captures every detail of the image in our prints on enhanced matte painting canvas, ensuring rich and lively colours. This wall art panel is mounted on MDF and ready to hang on walls. Beautiful interior home d©cor artwork gifts for Living, Dining Room, Outdoor, Gallery, Hotels, Restaurants, Office, Reception, Kitchen Area, Balcony and Bathroom.  Pitaara Box offers an exclusive collection of thousands of artworks, digital paintings, canvas prints, wall posters, and other wall decor products for your home, office, and surroundings. We provide a never-ending range of creative and spectacular art products, which can be used for gifting on every occasion and every season.  TAGS: wall, paintings, canvas, prints, modern, art, abstract, designer, wallart, artwork, home, bedroom, dining, living, drawing, room, digital, printing, bathroom, common, area, kitchen, office, decorative, stretch, stretched, framed, framing, beautiful, classy, royal, special, unique, elegant, stylish, creative, affordable, best, photo, gifts, fabrics, balcony, interior, exterior, outdoor, gallery, hotels, restaurants, colourful, colorful, small, large, extra large, oversized, hangings, giant, slim, durable, waterproof, buy, shop, purchase, decor, online, Places, Vintage, Canvas, romantic, Venice, artwork, painting, style',\n",
       "       'Paper Plane Design Starry Night Vangoh Wall Art Canvas Painting. Large Size Rolled Canvas Art Print (36\" X 48\") We use only the most modern and efficient printing technology on our canvases, with only the best and original inks and precision Epson< Roland and HP printers. This innovative HD printing technique results in durable and spectacular looking prints of the highest quality that last a lifetime. We print solely with top-notch inks, to achieve brilliant and true colours. Due to their high level of UV Resistance, our Canvas prints retain their beautiful colours for many years. Our canvases contain high levels of white, to ensure that the colours of your original image are reproduced exactly, with brilliant tones. Add colour and style to your living space with this digitally printed canvas painting. Some gifts are for pleasure and some for eternal bliss.So bring home this elegant Canvas print that is lushed with Rich colors that makes it nothing but sheer elegance to be gifted to your friends and family.It would be treasured forever by whoever your lucky recipient is. Liven up your place with these intriguing paintings on canvas that are high definition hd graphic digital prints for home, office or any room. A perfect size of 36 inches x 48 inches suits every size of space and are a great match with every architectural setting. We prove raw canvas prints with special left extra margins for any type of framing required which you can get done as you please. Art comes in a safe delivery tube. prints are made using latest technology and original inks to get a perfect colour and long lasting design.',\n",
       "       'Pitaara Box Romantic Venice Canvas Painting 6mm Thick Mdf Frame 21.1 X 14Inch Enclosure Material:MDF Mount Frame                                                                                \\xa0|\\xa0                           Size:21.1inch x 14inch (53.6cms x 35.6cms)   SIZE: 21.1 inch x 14.0 inch (53.6 cms x 35.6 cms)  Enhance the beauty of your room walls with this breathtaking digital printed artwork. Our high-end printing technology captures every detail of the image in our prints on enhanced matte painting canvas, ensuring rich and lively colours. This wall art panel is mounted on MDF and ready to hang on walls. Beautiful interior home d©cor artwork gifts for Living, Dining Room, Outdoor, Gallery, Hotels, Restaurants, Office, Reception, Kitchen Area, Balcony and Bathroom.  Pitaara Box offers an exclusive collection of thousands of artworks, digital paintings, canvas prints, wall posters, and other wall decor products for your home, office, and surroundings. We provide a never-ending range of creative and spectacular art products, which can be used for gifting on every occasion and every season.  TAGS: wall, paintings, canvas, prints, modern, art, abstract, designer, wallart, artwork, home, bedroom, dining, living, drawing, room, digital, printing, bathroom, common, area, kitchen, office, decorative, stretch, stretched, framed, framing, beautiful, classy, royal, special, unique, elegant, stylish, creative, affordable, best, photo, gifts, fabrics, balcony, interior, exterior, outdoor, gallery, hotels, restaurants, colourful, colorful, small, large, extra large, oversized, hangings, giant, slim, durable, waterproof, buy, shop, purchase, decor, online, Places, Vintage, Canvas, romantic, Venice, artwork, painting, style',\n",
       "       \"SAF 'Ganesh Modern Art Print' Painting (Synthetic, 35 cm x 50 cm x 2 cm, Set of 3) Color:Multicolor   Overview a beautiful painting involves the action or skill of using paint in the right manner; hence, the end product will be a picture that can speak a thousand words they say. Arts have been in trend for quite some time now. It can give different viewer different meanings style and design the SAF wood matte abstract painting with frame is quite abstract and mysteriously beautiful. The painting has a nice frame to it. You can gift this to a family or a friend. The painting has various forms of certain figures on it as seen in the image. You can add a good set of lights to the place where the painting is and the decor will give a different feel and look to the place. Quality and durability the painting has a matte finish and includes a good quality frame and will last for a long period. However, it does not include glass along with the frame. Specifications you can purchase SAF wood matte abstract painting with frame on amazon.in. It is the most customer-friendly platform with a wide range of products to choose from, and shopping is just a click away!\",\n",
       "       \"Paintings Villa UV Textured Modern Art Print Framed Painting Home Decoration - Size 35 X 2 X 50 cm Paintings Villa UV Textured Modern Art Print Framed Painting Home Decoration - Size 35 X 2 X 50 cm Decorate your home and office walls with these artistic design satin matt texture framed UV art print from MAV. Each design reflects the artistic qualities and time one has taken to design this poster. Exquisitely printed and framed it is also a perfect gifting option for your colleagues loved ones and family members. These frames don't include glass so it is very light weight and wet cloth can be used to clean it.\"],\n",
       "      dtype=object)"
      ]
     },
     "execution_count": 158,
     "metadata": {},
     "output_type": "execute_result"
    }
   ],
   "source": [
    "df_full[1][:10].values"
   ]
  },
  {
   "cell_type": "code",
   "execution_count": null,
   "metadata": {},
   "outputs": [],
   "source": []
  },
  {
   "cell_type": "code",
   "execution_count": 146,
   "metadata": {},
   "outputs": [],
   "source": [
    "def encoder_labels(labels):\n",
    "    le = preprocessing.LabelEncoder()\n",
    "    arr = le.fit_transform(labels)\n",
    "    labels = np.zeros((arr.size, arr.max()+1))  \n",
    "    labels[np.arange(arr.size), arr] = 1  \n",
    "    return labels"
   ]
  },
  {
   "cell_type": "code",
   "execution_count": 145,
   "metadata": {},
   "outputs": [],
   "source": [
    "def toDataset(sequences, labels, max_seq):\n",
    "    # initialize two arrays for input tensors\n",
    "    Xids, Xmask = inputs_masks(sequences, max_seq)\n",
    "    dataset = convert_dataset(Xids, Xmask, labels)\n",
    "    return split_data(dataset)"
   ]
  },
  {
   "cell_type": "code",
   "execution_count": 122,
   "metadata": {},
   "outputs": [],
   "source": [
    "def tokenize(sentence):\n",
    "    tokens = tokenizer.encode_plus(sentence, max_length=SEQ_LEN,\n",
    "                                   truncation=True, padding='max_length',\n",
    "                                   add_special_tokens=True, return_attention_mask=True,\n",
    "                                   return_token_type_ids=False, return_tensors='tf')\n",
    "    return tokens['input_ids'], tokens['attention_mask']"
   ]
  },
  {
   "cell_type": "code",
   "execution_count": 139,
   "metadata": {},
   "outputs": [],
   "source": [
    "def inputs_masks(sentences, max_seq):\n",
    "    Xids = np.zeros((len(sentences), max_seq))\n",
    "    Xmask = np.zeros((len(sentences), max_seq))\n",
    "\n",
    "    for i, sentence in enumerate(sentences):\n",
    "        Xids[i, :], Xmask[i, :] = tokenize(sentence)\n",
    "        if i % 10000 == 0:\n",
    "            print(i)  \n",
    "    return Xids, Xmask"
   ]
  },
  {
   "cell_type": "code",
   "execution_count": 137,
   "metadata": {},
   "outputs": [],
   "source": [
    "def convert_dataset(Xids, Xmask, labels):\n",
    "    BATCH_SIZE = 32  # we will use batches of 32\n",
    "\n",
    "    # load arrays into tensorflow dataset\n",
    "    dataset = tf.data.Dataset.from_tensor_slices((Xids, Xmask, labels))\n",
    "\n",
    "    # create a mapping function that we use to restructure our dataset\n",
    "    def map_func(input_ids, masks, labels):\n",
    "        return {'input_ids': input_ids, 'attention_mask': masks}, labels\n",
    "\n",
    "    # using map method to apply map_func to dataset\n",
    "    dataset = dataset.map(map_func)\n",
    "\n",
    "    # shuffle data and batch it\n",
    "    return dataset.shuffle(10000).batch(BATCH_SIZE)"
   ]
  },
  {
   "cell_type": "code",
   "execution_count": null,
   "metadata": {},
   "outputs": [],
   "source": [
    "def split_data(dataset):\n",
    "    # get the length of the batched dataset\n",
    "    DS_LEN = len([0 for batch in dataset])\n",
    "    SPLIT = 0.9  # 90-10 split\n",
    "\n",
    "    train = dataset.take(round(DS_LEN*SPLIT))  # get first 90% of batches\n",
    "    val = dataset.skip(round(DS_LEN*SPLIT))  # skip first 90% and keep final 10%\n",
    "\n",
    "    del dataset  # optionally, delete dataset to free up disk-space\n",
    "    return train, val"
   ]
  },
  {
   "cell_type": "code",
   "execution_count": 142,
   "metadata": {},
   "outputs": [],
   "source": [
    "def bert_model(num_classes, max_seq=128):\n",
    "    input_ids = tf.keras.layers.Input(shape=(max_seq,), name='input_ids', dtype='int32')\n",
    "    mask = tf.keras.layers.Input(shape=(max_seq,), name='attention_mask', dtype='int32')\n",
    "\n",
    "    # we consume the last_hidden_state tensor from bert (discarding pooled_outputs)\n",
    "    embeddings = bert(input_ids, attention_mask=mask)[0]\n",
    "\n",
    "    X = tf.keras.layers.LSTM(64)(embeddings)\n",
    "    X = tf.keras.layers.BatchNormalization()(X)\n",
    "    X = tf.keras.layers.Dense(64, activation='relu')(X)\n",
    "    X = tf.keras.layers.Dropout(0.1)(X)\n",
    "    y = tf.keras.layers.Dense(num_classes, activation='softmax', name='outputs')(X)\n",
    "\n",
    "    # define input and output layers of our model\n",
    "    model = tf.keras.Model(inputs=[input_ids, mask], outputs=y)\n",
    "\n",
    "    # freeze the BERT layer - otherwise we will be training 100M+ parameters...\n",
    "    model.layers[2].trainable = False\n",
    "    \n",
    "    optimizer = tf.keras.optimizers.Adam(0.01)\n",
    "    loss = tf.keras.losses.CategoricalCrossentropy()  # categorical = one-hot\n",
    "    acc = tf.keras.metrics.CategoricalAccuracy('accuracy')\n",
    "\n",
    "    model.compile(optimizer=optimizer, loss=loss, metrics=[acc])\n",
    "    \n",
    "    return model"
   ]
  },
  {
   "cell_type": "code",
   "execution_count": null,
   "metadata": {},
   "outputs": [],
   "source": [
    "sequences = df_full[1]\n",
    "labels = encoder_labels(df_full[0])\n",
    "SEQ_LEN = 128  \n",
    "\n",
    "train, val = toDataset(sequences, labels, SEQ_LEN)"
   ]
  },
  {
   "cell_type": "code",
   "execution_count": 143,
   "metadata": {},
   "outputs": [],
   "source": [
    "num_classes = 4\n",
    "model = bert_model(num_classes)"
   ]
  },
  {
   "cell_type": "code",
   "execution_count": 129,
   "metadata": {},
   "outputs": [
    {
     "name": "stdout",
     "output_type": "stream",
     "text": [
      "Epoch 1/4\n",
      "1418/1418 [==============================] - 1073s 747ms/step - loss: 0.2126 - accuracy: 0.9321 - val_loss: 0.2100 - val_accuracy: 0.9317\n",
      "Epoch 2/4\n",
      "1418/1418 [==============================] - 1056s 744ms/step - loss: 0.2002 - accuracy: 0.9380 - val_loss: 0.1991 - val_accuracy: 0.9334\n",
      "Epoch 3/4\n",
      "1418/1418 [==============================] - 1083s 764ms/step - loss: 0.2314 - accuracy: 0.9300 - val_loss: 0.2640 - val_accuracy: 0.9237\n",
      "Epoch 4/4\n",
      "1418/1418 [==============================] - 1086s 766ms/step - loss: 0.2137 - accuracy: 0.9338 - val_loss: 0.2365 - val_accuracy: 0.9317\n"
     ]
    }
   ],
   "source": [
    "history = model.fit(train, validation_data=val, epochs=4)"
   ]
  },
  {
   "cell_type": "code",
   "execution_count": 130,
   "metadata": {},
   "outputs": [
    {
     "name": "stdout",
     "output_type": "stream",
     "text": [
      "dict_keys(['loss', 'accuracy', 'val_loss', 'val_accuracy'])\n"
     ]
    },
    {
     "data": {
      "image/png": "[encoded data removed]",
      "text/plain": [
       "<Figure size 432x288 with 1 Axes>"
      ]
     },
     "metadata": {
      "needs_background": "light"
     },
     "output_type": "display_data"
    }
   ],
   "source": [
    "# list all data in history\n",
    "print(history.history.keys())\n",
    "# summarize history for accuracy\n",
    "plt.plot(history.history['accuracy'])\n",
    "plt.plot(history.history['val_accuracy'])\n",
    "plt.title('model accuracy')\n",
    "plt.ylabel('accuracy')\n",
    "plt.xlabel('epoch')\n",
    "plt.legend(['train', 'test'], loc='upper left')\n",
    "plt.show()\n"
   ]
  },
  {
   "cell_type": "code",
   "execution_count": 131,
   "metadata": {},
   "outputs": [
    {
     "data": {
      "image/png": "[encoded data removed]",
      "text/plain": [
       "<Figure size 432x288 with 1 Axes>"
      ]
     },
     "metadata": {
      "needs_background": "light"
     },
     "output_type": "display_data"
    }
   ],
   "source": [
    "# summarize history for loss\n",
    "plt.plot(history.history['loss'])\n",
    "plt.plot(history.history['val_loss'])\n",
    "plt.title('model loss')\n",
    "plt.ylabel('loss')\n",
    "plt.xlabel('epoch')\n",
    "plt.legend(['train', 'test'], loc='upper left')\n",
    "plt.show()"
   ]
  },
  {
   "cell_type": "code",
   "execution_count": null,
   "metadata": {},
   "outputs": [],
   "source": [
    "# model.save('../models/ecommerce_hugging/')"
   ]
  },
  {
   "cell_type": "code",
   "execution_count": 132,
   "metadata": {},
   "outputs": [],
   "source": [
    "model.save('../models/ecommerce_hugging/bert_model.h5')\n"
   ]
  },
  {
   "cell_type": "code",
   "execution_count": null,
   "metadata": {},
   "outputs": [],
   "source": [
    "df_full[1][10:20].values"
   ]
  },
  {
   "cell_type": "code",
   "execution_count": 166,
   "metadata": {},
   "outputs": [
    {
     "name": "stdout",
     "output_type": "stream",
     "text": [
      "0\n",
      "32/32 [==============================] - 19s 599ms/step\n",
      "[[0.35511237 0.17605643 0.24516374 0.2236675 ]\n",
      " [0.29650092 0.20074794 0.26077133 0.24197982]\n",
      " [0.35478744 0.23021106 0.20025714 0.21474434]\n",
      " ...\n",
      " [0.29376328 0.13241595 0.2831889  0.29063183]\n",
      " [0.33404115 0.18870142 0.24179511 0.23546232]\n",
      " [0.2932002  0.24002886 0.25675726 0.2100137 ]]\n"
     ]
    },
    {
     "data": {
      "text/plain": [
       "array([0, 0, 0, 0, 0, 0, 0, 0, 0, 0, 0, 0, 0, 0, 0, 0, 0, 0, 0, 0, 0, 0,\n",
       "       0, 0, 0, 0, 0, 3, 0, 0, 3, 0, 0, 0, 0, 0, 0, 0, 0, 0, 0, 0, 0, 0,\n",
       "       0, 0, 0, 0, 0, 0, 0, 0, 0, 0, 0, 0, 0, 0, 0, 0, 0, 0, 0, 0, 2, 0,\n",
       "       0, 0, 0, 0, 3, 0, 0, 0, 0, 0, 0, 0, 2, 0, 0, 0, 0, 0, 0, 0, 0, 0,\n",
       "       0, 0, 0, 0, 0, 0, 0, 0, 0, 0, 0, 2, 0, 0, 0, 0, 0, 0, 2, 0, 0, 0,\n",
       "       0, 0, 0, 0, 0, 0, 0, 2, 0, 0, 0, 0, 0, 0, 0, 0, 0, 0, 0, 0, 0, 0,\n",
       "       0, 0, 0, 0, 0, 0, 0, 0, 0, 0, 0, 0, 0, 0, 0, 0, 0, 0, 0, 0, 0, 0,\n",
       "       0, 0, 0, 0, 0, 2, 0, 2, 2, 3, 3, 3, 0, 0, 0, 0, 0, 0, 0, 0, 0, 0,\n",
       "       0, 0, 0, 0, 0, 0, 0, 0, 0, 0, 0, 0, 0, 0, 0, 2, 0, 0, 3, 0, 0, 0,\n",
       "       3, 0, 0, 0, 0, 3, 0, 0, 0, 0, 0, 0, 0, 0, 0, 0, 0, 0, 0, 0, 0, 0,\n",
       "       0, 3, 0, 2, 0, 0, 0, 3, 0, 0, 0, 0, 0, 0, 0, 3, 0, 0, 0, 0, 0, 0,\n",
       "       0, 3, 3, 0, 0, 3, 0, 0, 0, 0, 0, 0, 0, 0, 3, 2, 0, 0, 3, 3, 0, 0,\n",
       "       3, 0, 2, 0, 0, 0, 2, 0, 0, 0, 2, 0, 0, 3, 2, 2, 0, 0, 0, 0, 0, 0,\n",
       "       2, 2, 2, 0, 0, 0, 2, 0, 0, 2, 0, 0, 2, 2, 2, 2, 0, 2, 2, 0, 2, 0,\n",
       "       0, 2, 0, 2, 0, 2, 0, 0, 0, 2, 0, 0, 0, 2, 2, 0, 0, 2, 0, 0, 0, 0,\n",
       "       0, 0, 2, 0, 0, 0, 0, 0, 0, 0, 0, 0, 0, 0, 0, 0, 0, 0, 0, 0, 0, 0,\n",
       "       0, 0, 0, 0, 0, 0, 0, 0, 0, 0, 2, 0, 2, 0, 0, 0, 0, 0, 3, 2, 0, 0,\n",
       "       0, 2, 0, 0, 0, 0, 0, 0, 0, 0, 0, 0, 0, 0, 0, 0, 0, 0, 0, 0, 0, 0,\n",
       "       0, 0, 0, 0, 0, 0, 0, 0, 0, 2, 2, 0, 0, 0, 0, 0, 0, 0, 2, 3, 0, 0,\n",
       "       0, 3, 0, 0, 0, 0, 0, 2, 0, 0, 0, 0, 2, 0, 2, 0, 0, 2, 0, 0, 0, 0,\n",
       "       0, 0, 0, 0, 0, 0, 0, 0, 0, 0, 0, 0, 0, 0, 0, 0, 2, 0, 0, 0, 0, 0,\n",
       "       0, 0, 0, 0, 0, 0, 2, 0, 2, 0, 0, 0, 0, 0, 0, 0, 0, 0, 0, 0, 0, 2,\n",
       "       0, 0, 2, 0, 0, 0, 0, 0, 0, 0, 0, 0, 0, 0, 0, 0, 0, 0, 0, 0, 0, 3,\n",
       "       0, 0, 2, 0, 0, 0, 0, 0, 0, 0, 0, 0, 2, 0, 0, 0, 0, 0, 2, 0, 0, 0,\n",
       "       3, 0, 0, 0, 0, 2, 0, 0, 2, 0, 0, 0, 0, 0, 0, 0, 0, 0, 0, 0, 0, 0,\n",
       "       0, 0, 0, 0, 0, 0, 0, 0, 0, 0, 2, 0, 0, 2, 0, 0, 0, 0, 0, 0, 2, 0,\n",
       "       0, 2, 2, 0, 2, 0, 0, 2, 2, 2, 2, 0, 0, 0, 0, 0, 3, 2, 0, 2, 0, 0,\n",
       "       2, 0, 0, 0, 0, 0, 0, 0, 0, 0, 0, 0, 0, 0, 0, 0, 0, 0, 0, 0, 0, 0,\n",
       "       0, 0, 0, 0, 0, 0, 0, 0, 0, 0, 3, 0, 0, 0, 0, 3, 2, 2, 0, 0, 0, 0,\n",
       "       0, 0, 0, 0, 0, 0, 0, 2, 0, 0, 0, 0, 2, 0, 0, 3, 2, 0, 0, 2, 0, 3,\n",
       "       3, 0, 0, 0, 0, 0, 0, 0, 2, 3, 0, 0, 2, 0, 2, 0, 0, 0, 0, 0, 3, 2,\n",
       "       0, 0, 3, 0, 0, 0, 0, 0, 0, 0, 0, 0, 0, 0, 0, 3, 0, 2, 0, 0, 0, 0,\n",
       "       0, 0, 0, 0, 0, 0, 0, 0, 0, 0, 0, 0, 0, 0, 0, 0, 2, 0, 0, 0, 0, 0,\n",
       "       0, 2, 0, 0, 0, 0, 2, 0, 0, 0, 0, 0, 0, 0, 0, 0, 0, 0, 0, 0, 0, 0,\n",
       "       0, 0, 0, 0, 0, 0, 0, 0, 0, 0, 0, 0, 0, 0, 0, 0, 0, 0, 0, 0, 0, 2,\n",
       "       0, 0, 0, 2, 2, 2, 0, 0, 0, 0, 0, 0, 0, 2, 0, 0, 2, 0, 0, 0, 0, 0,\n",
       "       0, 0, 0, 0, 0, 0, 0, 0, 0, 2, 0, 0, 0, 0, 2, 2, 2, 0, 0, 0, 0, 0,\n",
       "       0, 0, 0, 0, 0, 0, 0, 0, 0, 0, 0, 2, 2, 0, 0, 2, 0, 0, 0, 0, 0, 0,\n",
       "       0, 0, 0, 2, 0, 2, 0, 0, 0, 0, 0, 0, 0, 3, 0, 0, 0, 0, 0, 0, 0, 0,\n",
       "       2, 0, 0, 0, 0, 0, 0, 0, 0, 0, 0, 0, 0, 0, 0, 0, 0, 0, 0, 2, 0, 0,\n",
       "       0, 2, 0, 0, 0, 0, 0, 0, 0, 0, 0, 0, 3, 0, 0, 0, 0, 0, 0, 0, 0, 0,\n",
       "       0, 0, 0, 0, 0, 2, 0, 2, 0, 2, 0, 2, 2, 2, 0, 0, 0, 0, 0, 0, 2, 0,\n",
       "       0, 0, 0, 2, 0, 0, 2, 0, 0, 0, 0, 0, 0, 0, 0, 0, 0, 0, 0, 0, 2, 0,\n",
       "       2, 0, 0, 0, 0, 0, 0, 0, 0, 0, 0, 2, 0, 0, 0, 0, 0, 2, 0, 0, 0, 0,\n",
       "       0, 0, 0, 0, 0, 2, 0, 0, 2, 0, 0, 0, 0, 0, 0, 0, 0, 0, 0, 0, 0, 0,\n",
       "       0, 0, 0, 0, 0, 0, 0, 0, 0, 0])"
      ]
     },
     "execution_count": 166,
     "metadata": {},
     "output_type": "execute_result"
    }
   ],
   "source": [
    "sequence_sample = [\n",
    "    \"Paper Plane Design Framed Wall Hanging Motivational Office Decor Art Prints (8.7 X 8.7 inch) - Set of 4 Painting made up in synthetic frame with uv textured print which gives multi effects and attracts towards it. This is an special series of paintings which makes your wall very beautiful and gives a royal touch. This painting is ready to hang, you would be proud to possess this unique painting that is a niche apart. We use only the most modern and efficient printing technology on our prints, with only the and inks and precision epson, roland and hp printers. This innovative hd printing technique results in durable and spectacular looking prints of the highest that last a lifetime. We print solely with top-notch 100% inks, to achieve brilliant and true colours. Due to their high level of uv resistance, our prints retain their beautiful colours for many years. Add colour and style to your living space with this digitally printed painting. Some are for pleasure and some for eternal bliss.so bring home this elegant print that is lushed with rich colors that makes it nothing but sheer elegance to be to your friends and family.it would be treasured forever by whoever your lucky recipient is. Liven up your place with these intriguing paintings that are high definition hd graphic digital prints for home, office or any room\", \n",
    "    \"ncredible Gifts India Wooden Happy Birthday Unique Personalized Gift (5 X 4 Inch) Size:4 x 5   Made Of Natural Imported Wood, Which Is Quite Solid With Light Particle Pattern & Is Soft Pale To Blond Colour. Your Uploaded Photo Will Look Amazing And Beautiful After Laser Engraving On It. This Is One Of The Most Popular Unique Gifts In Our Store. We Offer This In Multiple Sizes, Some Can Be Used As Table Top And The Big Sizes Can Be Used As Wall Hanging Which Just Blends With Your Home Decaration. You Just Need To Upload A Picture And Add Your Own Text And We Will Do The Rest For You. We Will Email You The Preview Before Making The Final Product. Do You Want The Best Moment Of Your Life To Be Engraved On A Wooden Plaque That Lasts For A Longer Time And Stays Close To You Forever? Then You Are At The Right Place. We Present To You Various Sizes Personalized Engraved Wooden Plaques Made With Birch Wood. Let Your Memories Be Engraved On Wooden Plaques And Stay With Your Forever.\"\n",
    "]\n",
    "gt = df_full[\"target\"][1000:2000]\n",
    "\n",
    "Xids_sample, Xmask_sample = inputs_masks(df_full[1][1000:2000].values, 128)\n",
    "predictions = model.predict([Xids_sample, Xmask_sample])\n",
    "print(predictions)\n",
    "np.argmax(predictions, axis=1)"
   ]
  },
  {
   "cell_type": "code",
   "execution_count": 167,
   "metadata": {},
   "outputs": [
    {
     "data": {
      "text/plain": [
       "1000    3\n",
       "1001    3\n",
       "1002    3\n",
       "1003    3\n",
       "1004    3\n",
       "       ..\n",
       "1995    3\n",
       "1996    3\n",
       "1997    3\n",
       "1998    3\n",
       "1999    3\n",
       "Name: target, Length: 1000, dtype: int64"
      ]
     },
     "execution_count": 167,
     "metadata": {},
     "output_type": "execute_result"
    }
   ],
   "source": [
    "gt"
   ]
  }
 ],
 "metadata": {
  "accelerator": "GPU",
  "colab": {
   "collapsed_sections": [],
   "name": "Bert ecommerce classification.ipynb",
   "provenance": []
  },
  "gpuClass": "standard",
  "kernelspec": {
   "display_name": "Python 3 (ipykernel)",
   "language": "python",
   "name": "python3"
  },
  "language_info": {
   "codemirror_mode": {
    "name": "ipython",
    "version": 3
   },
   "file_extension": ".py",
   "mimetype": "text/x-python",
   "name": "python",
   "nbconvert_exporter": "python",
   "pygments_lexer": "ipython3",
   "version": "3.9.13"
  }
 },
 "nbformat": 4,
 "nbformat_minor": 4
}
